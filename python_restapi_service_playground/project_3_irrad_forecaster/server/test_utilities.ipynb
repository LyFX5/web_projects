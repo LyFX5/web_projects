{
 "cells": [
  {
   "cell_type": "code",
   "execution_count": 1,
   "id": "initial_id",
   "metadata": {
    "collapsed": true,
    "ExecuteTime": {
     "end_time": "2023-07-28T14:47:45.370523084Z",
     "start_time": "2023-07-28T14:47:42.905817237Z"
    }
   },
   "outputs": [
    {
     "name": "stderr",
     "output_type": "stream",
     "text": [
      "/home/eduard/anaconda3/envs/modeling_control/lib/python3.10/site-packages/statsmodels/genmod/families/links.py:13: FutureWarning: The log link alias is deprecated. Use Log instead. The log link alias will be removed after the 0.15.0 release.\n",
      "  warnings.warn(\n",
      "/home/eduard/anaconda3/envs/modeling_control/lib/python3.10/site-packages/statsmodels/genmod/families/links.py:13: FutureWarning: The identity link alias is deprecated. Use Identity instead. The identity link alias will be removed after the 0.15.0 release.\n",
      "  warnings.warn(\n",
      "/home/eduard/anaconda3/envs/modeling_control/lib/python3.10/site-packages/statsmodels/genmod/families/links.py:13: FutureWarning: The inverse_power link alias is deprecated. Use InversePower instead. The inverse_power link alias will be removed after the 0.15.0 release.\n",
      "  warnings.warn(\n",
      "/home/eduard/anaconda3/envs/modeling_control/lib/python3.10/site-packages/statsmodels/genmod/families/links.py:13: FutureWarning: The inverse_squared link alias is deprecated. Use InverseSquared instead. The inverse_squared link alias will be removed after the 0.15.0 release.\n",
      "  warnings.warn(\n"
     ]
    }
   ],
   "source": [
    "from app import db_manager\n",
    "from app import weather_analysis_utilities"
   ]
  },
  {
   "cell_type": "code",
   "execution_count": 2,
   "outputs": [
    {
     "name": "stdout",
     "output_type": "stream",
     "text": [
      "existing tables [('current_day_hourly_weather',)]\n",
      "Table current_day_hourly_weather is created.\n"
     ]
    }
   ],
   "source": [
    "table_manager = db_manager.DataBaseManager()\n",
    "table_manager.create_connection()\n",
    "table_manager.create_cursor()\n",
    "table_manager.create_table()\n",
    "table_manager.save_changes()\n",
    "table_manager.close_connection()"
   ],
   "metadata": {
    "collapsed": false,
    "ExecuteTime": {
     "end_time": "2023-07-28T14:47:48.885096987Z",
     "start_time": "2023-07-28T14:47:48.869090094Z"
    }
   },
   "id": "ec0e07936879acd9"
  },
  {
   "cell_type": "code",
   "execution_count": 3,
   "outputs": [],
   "source": [
    "FEATURES = [weather_analysis_utilities.Features.TIME.value,\n",
    "                         weather_analysis_utilities.Features.SOLAR_POWER.value,\n",
    "                         weather_analysis_utilities.Features.SOLAR_IRRADIANCE.value,\n",
    "                         weather_analysis_utilities.Features.GHI.value,\n",
    "                         weather_analysis_utilities.Features.DHI.value,\n",
    "                         weather_analysis_utilities.Features.DNI.value,\n",
    "                         weather_analysis_utilities.Features.SHORT_RADIATION.value,\n",
    "                         weather_analysis_utilities.Features.DIRECT_RADIATION.value,\n",
    "                         weather_analysis_utilities.Features.DIFFUSE_RADIATION.value,\n",
    "                         weather_analysis_utilities.Features.DIRECT_NORMAL_RADIATION.value,\n",
    "                         # Features.TERRESTRIAL_RADIATION.value,\n",
    "                         weather_analysis_utilities.Features.TEMPERATURE.value,\n",
    "                         weather_analysis_utilities.Features.HUMIDITI.value,\n",
    "                         weather_analysis_utilities.Features.RAIN.value,\n",
    "                         weather_analysis_utilities.Features.WEATHERCODE.value,\n",
    "                         weather_analysis_utilities.Features.CLOUDCOVER.value,\n",
    "                         weather_analysis_utilities.Features.CLOUDCOVER_LOW.value,\n",
    "                         weather_analysis_utilities.Features.CLOUDCOVER_MID.value,\n",
    "                         weather_analysis_utilities.Features.CLOUDCOVER_HIGH.value,\n",
    "                         weather_analysis_utilities.Features.WINDSPEED_10.value,\n",
    "                         # Features.WINDSPEED_80.value,\n",
    "                         weather_analysis_utilities.Features.VAPOR_PRESSURE_DEFICIT.value]"
   ],
   "metadata": {
    "collapsed": false,
    "ExecuteTime": {
     "end_time": "2023-07-28T14:47:50.983072854Z",
     "start_time": "2023-07-28T14:47:50.964221991Z"
    }
   },
   "id": "2e7543f1ee0a1b9"
  },
  {
   "cell_type": "code",
   "execution_count": 4,
   "outputs": [],
   "source": [
    "LATITUDE_PSH = 18.852\n",
    "LONGITUDE_PSH = 98.994\n",
    "weather_parameters = [\"shortwave_radiation\",\n",
    "                                   \"direct_radiation\",\n",
    "                                   \"diffuse_radiation\",\n",
    "                                   \"direct_normal_irradiance\"] + FEATURES[10:]"
   ],
   "metadata": {
    "collapsed": false,
    "ExecuteTime": {
     "end_time": "2023-07-28T14:47:52.651205164Z",
     "start_time": "2023-07-28T14:47:52.643321315Z"
    }
   },
   "id": "6292e9b9331e4c4"
  },
  {
   "cell_type": "code",
   "execution_count": 5,
   "outputs": [],
   "source": [
    "weather_data_source = weather_analysis_utilities.DataBaseWeatherSource(LATITUDE_PSH, LONGITUDE_PSH, weather_parameters)"
   ],
   "metadata": {
    "collapsed": false,
    "ExecuteTime": {
     "end_time": "2023-07-28T14:47:54.054833392Z",
     "start_time": "2023-07-28T14:47:53.517001269Z"
    }
   },
   "id": "80c18ef0839ef3c1"
  },
  {
   "cell_type": "code",
   "execution_count": 6,
   "outputs": [
    {
     "name": "stdout",
     "output_type": "stream",
     "text": [
      "[provide_forecasted_data] h=21\n"
     ]
    }
   ],
   "source": [
    "weather_data = weather_data_source.provide_forecasted_data(1)"
   ],
   "metadata": {
    "collapsed": false,
    "ExecuteTime": {
     "end_time": "2023-07-28T14:47:54.854721078Z",
     "start_time": "2023-07-28T14:47:54.815910052Z"
    }
   },
   "id": "539c8f01e2dbcbce"
  },
  {
   "cell_type": "code",
   "execution_count": 7,
   "outputs": [
    {
     "data": {
      "text/plain": "                           shortwave_radiation  direct_radiation  \\\ntime                                                               \n2023-07-28 00:00:00+00:00                  0.0               0.0   \n2023-07-28 01:00:00+00:00                  0.0               0.0   \n2023-07-28 02:00:00+00:00                  0.0               0.0   \n2023-07-28 03:00:00+00:00                  0.0               0.0   \n2023-07-28 04:00:00+00:00                  0.0               0.0   \n2023-07-28 05:00:00+00:00                  0.0               0.0   \n2023-07-28 06:00:00+00:00                  0.0               0.0   \n2023-07-28 07:00:00+00:00                 32.0               0.0   \n2023-07-28 08:00:00+00:00                149.0              20.0   \n2023-07-28 09:00:00+00:00                241.0              31.0   \n2023-07-28 10:00:00+00:00                408.0             110.0   \n2023-07-28 11:00:00+00:00                542.0             143.0   \n2023-07-28 12:00:00+00:00                640.0             270.0   \n2023-07-28 13:00:00+00:00                489.0              80.0   \n2023-07-28 14:00:00+00:00                568.0             124.0   \n2023-07-28 15:00:00+00:00                573.0             212.0   \n2023-07-28 16:00:00+00:00                511.0             274.0   \n2023-07-28 17:00:00+00:00                343.0             159.0   \n2023-07-28 18:00:00+00:00                161.0              53.0   \n2023-07-28 19:00:00+00:00                 30.0               0.0   \n2023-07-28 20:00:00+00:00                  0.0               0.0   \n2023-07-28 21:00:00+00:00                  0.0               0.0   \n2023-07-28 22:00:00+00:00                  0.0               0.0   \n2023-07-28 23:00:00+00:00                  0.0               0.0   \n\n                           diffuse_radiation  direct_normal_irradiance  \\\ntime                                                                     \n2023-07-28 00:00:00+00:00                0.0                       0.0   \n2023-07-28 01:00:00+00:00                0.0                       0.0   \n2023-07-28 02:00:00+00:00                0.0                       0.0   \n2023-07-28 03:00:00+00:00                0.0                       0.0   \n2023-07-28 04:00:00+00:00                0.0                       0.0   \n2023-07-28 05:00:00+00:00                0.0                       0.0   \n2023-07-28 06:00:00+00:00                0.0                       0.0   \n2023-07-28 07:00:00+00:00               32.0                       0.0   \n2023-07-28 08:00:00+00:00              129.0                      59.8   \n2023-07-28 09:00:00+00:00              210.0                      56.4   \n2023-07-28 10:00:00+00:00              298.0                     149.7   \n2023-07-28 11:00:00+00:00              399.0                     163.1   \n2023-07-28 12:00:00+00:00              370.0                     279.3   \n2023-07-28 13:00:00+00:00              409.0                      80.2   \n2023-07-28 14:00:00+00:00              444.0                     128.2   \n2023-07-28 15:00:00+00:00              361.0                     241.2   \n2023-07-28 16:00:00+00:00              237.0                     371.5   \n2023-07-28 17:00:00+00:00              184.0                     287.5   \n2023-07-28 18:00:00+00:00              108.0                     156.8   \n2023-07-28 19:00:00+00:00               30.0                       0.0   \n2023-07-28 20:00:00+00:00                0.0                       0.0   \n2023-07-28 21:00:00+00:00                0.0                       0.0   \n2023-07-28 22:00:00+00:00                0.0                       0.0   \n2023-07-28 23:00:00+00:00                0.0                       0.0   \n\n                           temperature_2m  relativehumidity_2m  rain  \\\ntime                                                                   \n2023-07-28 00:00:00+00:00            27.6                   79   0.0   \n2023-07-28 01:00:00+00:00            27.1                   83   0.0   \n2023-07-28 02:00:00+00:00            26.6                   85   0.0   \n2023-07-28 03:00:00+00:00            26.3                   86   0.0   \n2023-07-28 04:00:00+00:00            26.0                   88   0.0   \n2023-07-28 05:00:00+00:00            25.7                   89   0.0   \n2023-07-28 06:00:00+00:00            25.6                   90   0.0   \n2023-07-28 07:00:00+00:00            26.0                   93   0.0   \n2023-07-28 08:00:00+00:00            27.5                   84   0.0   \n2023-07-28 09:00:00+00:00            28.3                   82   0.0   \n2023-07-28 10:00:00+00:00            29.7                   76   0.0   \n2023-07-28 11:00:00+00:00            31.2                   62   0.0   \n2023-07-28 12:00:00+00:00            32.2                   56   0.0   \n2023-07-28 13:00:00+00:00            33.2                   54   0.0   \n2023-07-28 14:00:00+00:00            33.7                   51   0.0   \n2023-07-28 15:00:00+00:00            33.9                   50   0.0   \n2023-07-28 16:00:00+00:00            33.7                   51   0.0   \n2023-07-28 17:00:00+00:00            32.9                   54   0.0   \n2023-07-28 18:00:00+00:00            31.9                   58   0.0   \n2023-07-28 19:00:00+00:00            30.5                   65   0.0   \n2023-07-28 20:00:00+00:00            29.8                   68   0.0   \n2023-07-28 21:00:00+00:00            29.0                   71   0.0   \n2023-07-28 22:00:00+00:00            28.6                   73   0.0   \n2023-07-28 23:00:00+00:00            28.0                   76   0.0   \n\n                           weathercode  cloudcover  cloudcover_low  \\\ntime                                                                 \n2023-07-28 00:00:00+00:00            3          94              40   \n2023-07-28 01:00:00+00:00            3         100              36   \n2023-07-28 02:00:00+00:00            3         100              39   \n2023-07-28 03:00:00+00:00            3         100              41   \n2023-07-28 04:00:00+00:00            3         100              33   \n2023-07-28 05:00:00+00:00            3         100              38   \n2023-07-28 06:00:00+00:00            3         100              46   \n2023-07-28 07:00:00+00:00            3         100               7   \n2023-07-28 08:00:00+00:00            3         100               5   \n2023-07-28 09:00:00+00:00            3         100               8   \n2023-07-28 10:00:00+00:00            3         100               0   \n2023-07-28 11:00:00+00:00            3         100               7   \n2023-07-28 12:00:00+00:00            3         100              28   \n2023-07-28 13:00:00+00:00            3         100              33   \n2023-07-28 14:00:00+00:00            3         100              30   \n2023-07-28 15:00:00+00:00            2          78              40   \n2023-07-28 16:00:00+00:00            3          95              35   \n2023-07-28 17:00:00+00:00            3         100               2   \n2023-07-28 18:00:00+00:00            3         100              23   \n2023-07-28 19:00:00+00:00            3         100              12   \n2023-07-28 20:00:00+00:00            3         100               0   \n2023-07-28 21:00:00+00:00            3         100              33   \n2023-07-28 22:00:00+00:00            3         100              25   \n2023-07-28 23:00:00+00:00            3         100               0   \n\n                           cloudcover_mid  cloudcover_high  windspeed_10m  \\\ntime                                                                        \n2023-07-28 00:00:00+00:00              55               78            4.2   \n2023-07-28 01:00:00+00:00              56              100            4.8   \n2023-07-28 02:00:00+00:00              41               99            4.7   \n2023-07-28 03:00:00+00:00              38              100            3.3   \n2023-07-28 04:00:00+00:00              45              100            3.8   \n2023-07-28 05:00:00+00:00              55              100            3.5   \n2023-07-28 06:00:00+00:00              65              100            4.0   \n2023-07-28 07:00:00+00:00              64              100            5.1   \n2023-07-28 08:00:00+00:00              91              100            4.5   \n2023-07-28 09:00:00+00:00              68              100            3.4   \n2023-07-28 10:00:00+00:00              69              100            2.8   \n2023-07-28 11:00:00+00:00              60              100            9.5   \n2023-07-28 12:00:00+00:00              68              100           11.1   \n2023-07-28 13:00:00+00:00              71              100            7.3   \n2023-07-28 14:00:00+00:00              60              100           10.6   \n2023-07-28 15:00:00+00:00              54               28           13.4   \n2023-07-28 16:00:00+00:00              64               79           14.1   \n2023-07-28 17:00:00+00:00              54              100           11.9   \n2023-07-28 18:00:00+00:00              63              100            9.4   \n2023-07-28 19:00:00+00:00              47              100            5.0   \n2023-07-28 20:00:00+00:00              51              100            3.1   \n2023-07-28 21:00:00+00:00              62              100            3.7   \n2023-07-28 22:00:00+00:00              61              100            2.9   \n2023-07-28 23:00:00+00:00              66              100            3.7   \n\n                           vapor_pressure_deficit  \ntime                                               \n2023-07-28 00:00:00+00:00                    0.77  \n2023-07-28 01:00:00+00:00                    0.61  \n2023-07-28 02:00:00+00:00                    0.52  \n2023-07-28 03:00:00+00:00                    0.48  \n2023-07-28 04:00:00+00:00                    0.40  \n2023-07-28 05:00:00+00:00                    0.36  \n2023-07-28 06:00:00+00:00                    0.33  \n2023-07-28 07:00:00+00:00                    0.24  \n2023-07-28 08:00:00+00:00                    0.59  \n2023-07-28 09:00:00+00:00                    0.69  \n2023-07-28 10:00:00+00:00                    1.00  \n2023-07-28 11:00:00+00:00                    1.73  \n2023-07-28 12:00:00+00:00                    2.11  \n2023-07-28 13:00:00+00:00                    2.33  \n2023-07-28 14:00:00+00:00                    2.55  \n2023-07-28 15:00:00+00:00                    2.64  \n2023-07-28 16:00:00+00:00                    2.55  \n2023-07-28 17:00:00+00:00                    2.30  \n2023-07-28 18:00:00+00:00                    1.98  \n2023-07-28 19:00:00+00:00                    1.52  \n2023-07-28 20:00:00+00:00                    1.34  \n2023-07-28 21:00:00+00:00                    1.16  \n2023-07-28 22:00:00+00:00                    1.05  \n2023-07-28 23:00:00+00:00                    0.90  ",
      "text/html": "<div>\n<style scoped>\n    .dataframe tbody tr th:only-of-type {\n        vertical-align: middle;\n    }\n\n    .dataframe tbody tr th {\n        vertical-align: top;\n    }\n\n    .dataframe thead th {\n        text-align: right;\n    }\n</style>\n<table border=\"1\" class=\"dataframe\">\n  <thead>\n    <tr style=\"text-align: right;\">\n      <th></th>\n      <th>shortwave_radiation</th>\n      <th>direct_radiation</th>\n      <th>diffuse_radiation</th>\n      <th>direct_normal_irradiance</th>\n      <th>temperature_2m</th>\n      <th>relativehumidity_2m</th>\n      <th>rain</th>\n      <th>weathercode</th>\n      <th>cloudcover</th>\n      <th>cloudcover_low</th>\n      <th>cloudcover_mid</th>\n      <th>cloudcover_high</th>\n      <th>windspeed_10m</th>\n      <th>vapor_pressure_deficit</th>\n    </tr>\n    <tr>\n      <th>time</th>\n      <th></th>\n      <th></th>\n      <th></th>\n      <th></th>\n      <th></th>\n      <th></th>\n      <th></th>\n      <th></th>\n      <th></th>\n      <th></th>\n      <th></th>\n      <th></th>\n      <th></th>\n      <th></th>\n    </tr>\n  </thead>\n  <tbody>\n    <tr>\n      <th>2023-07-28 00:00:00+00:00</th>\n      <td>0.0</td>\n      <td>0.0</td>\n      <td>0.0</td>\n      <td>0.0</td>\n      <td>27.6</td>\n      <td>79</td>\n      <td>0.0</td>\n      <td>3</td>\n      <td>94</td>\n      <td>40</td>\n      <td>55</td>\n      <td>78</td>\n      <td>4.2</td>\n      <td>0.77</td>\n    </tr>\n    <tr>\n      <th>2023-07-28 01:00:00+00:00</th>\n      <td>0.0</td>\n      <td>0.0</td>\n      <td>0.0</td>\n      <td>0.0</td>\n      <td>27.1</td>\n      <td>83</td>\n      <td>0.0</td>\n      <td>3</td>\n      <td>100</td>\n      <td>36</td>\n      <td>56</td>\n      <td>100</td>\n      <td>4.8</td>\n      <td>0.61</td>\n    </tr>\n    <tr>\n      <th>2023-07-28 02:00:00+00:00</th>\n      <td>0.0</td>\n      <td>0.0</td>\n      <td>0.0</td>\n      <td>0.0</td>\n      <td>26.6</td>\n      <td>85</td>\n      <td>0.0</td>\n      <td>3</td>\n      <td>100</td>\n      <td>39</td>\n      <td>41</td>\n      <td>99</td>\n      <td>4.7</td>\n      <td>0.52</td>\n    </tr>\n    <tr>\n      <th>2023-07-28 03:00:00+00:00</th>\n      <td>0.0</td>\n      <td>0.0</td>\n      <td>0.0</td>\n      <td>0.0</td>\n      <td>26.3</td>\n      <td>86</td>\n      <td>0.0</td>\n      <td>3</td>\n      <td>100</td>\n      <td>41</td>\n      <td>38</td>\n      <td>100</td>\n      <td>3.3</td>\n      <td>0.48</td>\n    </tr>\n    <tr>\n      <th>2023-07-28 04:00:00+00:00</th>\n      <td>0.0</td>\n      <td>0.0</td>\n      <td>0.0</td>\n      <td>0.0</td>\n      <td>26.0</td>\n      <td>88</td>\n      <td>0.0</td>\n      <td>3</td>\n      <td>100</td>\n      <td>33</td>\n      <td>45</td>\n      <td>100</td>\n      <td>3.8</td>\n      <td>0.40</td>\n    </tr>\n    <tr>\n      <th>2023-07-28 05:00:00+00:00</th>\n      <td>0.0</td>\n      <td>0.0</td>\n      <td>0.0</td>\n      <td>0.0</td>\n      <td>25.7</td>\n      <td>89</td>\n      <td>0.0</td>\n      <td>3</td>\n      <td>100</td>\n      <td>38</td>\n      <td>55</td>\n      <td>100</td>\n      <td>3.5</td>\n      <td>0.36</td>\n    </tr>\n    <tr>\n      <th>2023-07-28 06:00:00+00:00</th>\n      <td>0.0</td>\n      <td>0.0</td>\n      <td>0.0</td>\n      <td>0.0</td>\n      <td>25.6</td>\n      <td>90</td>\n      <td>0.0</td>\n      <td>3</td>\n      <td>100</td>\n      <td>46</td>\n      <td>65</td>\n      <td>100</td>\n      <td>4.0</td>\n      <td>0.33</td>\n    </tr>\n    <tr>\n      <th>2023-07-28 07:00:00+00:00</th>\n      <td>32.0</td>\n      <td>0.0</td>\n      <td>32.0</td>\n      <td>0.0</td>\n      <td>26.0</td>\n      <td>93</td>\n      <td>0.0</td>\n      <td>3</td>\n      <td>100</td>\n      <td>7</td>\n      <td>64</td>\n      <td>100</td>\n      <td>5.1</td>\n      <td>0.24</td>\n    </tr>\n    <tr>\n      <th>2023-07-28 08:00:00+00:00</th>\n      <td>149.0</td>\n      <td>20.0</td>\n      <td>129.0</td>\n      <td>59.8</td>\n      <td>27.5</td>\n      <td>84</td>\n      <td>0.0</td>\n      <td>3</td>\n      <td>100</td>\n      <td>5</td>\n      <td>91</td>\n      <td>100</td>\n      <td>4.5</td>\n      <td>0.59</td>\n    </tr>\n    <tr>\n      <th>2023-07-28 09:00:00+00:00</th>\n      <td>241.0</td>\n      <td>31.0</td>\n      <td>210.0</td>\n      <td>56.4</td>\n      <td>28.3</td>\n      <td>82</td>\n      <td>0.0</td>\n      <td>3</td>\n      <td>100</td>\n      <td>8</td>\n      <td>68</td>\n      <td>100</td>\n      <td>3.4</td>\n      <td>0.69</td>\n    </tr>\n    <tr>\n      <th>2023-07-28 10:00:00+00:00</th>\n      <td>408.0</td>\n      <td>110.0</td>\n      <td>298.0</td>\n      <td>149.7</td>\n      <td>29.7</td>\n      <td>76</td>\n      <td>0.0</td>\n      <td>3</td>\n      <td>100</td>\n      <td>0</td>\n      <td>69</td>\n      <td>100</td>\n      <td>2.8</td>\n      <td>1.00</td>\n    </tr>\n    <tr>\n      <th>2023-07-28 11:00:00+00:00</th>\n      <td>542.0</td>\n      <td>143.0</td>\n      <td>399.0</td>\n      <td>163.1</td>\n      <td>31.2</td>\n      <td>62</td>\n      <td>0.0</td>\n      <td>3</td>\n      <td>100</td>\n      <td>7</td>\n      <td>60</td>\n      <td>100</td>\n      <td>9.5</td>\n      <td>1.73</td>\n    </tr>\n    <tr>\n      <th>2023-07-28 12:00:00+00:00</th>\n      <td>640.0</td>\n      <td>270.0</td>\n      <td>370.0</td>\n      <td>279.3</td>\n      <td>32.2</td>\n      <td>56</td>\n      <td>0.0</td>\n      <td>3</td>\n      <td>100</td>\n      <td>28</td>\n      <td>68</td>\n      <td>100</td>\n      <td>11.1</td>\n      <td>2.11</td>\n    </tr>\n    <tr>\n      <th>2023-07-28 13:00:00+00:00</th>\n      <td>489.0</td>\n      <td>80.0</td>\n      <td>409.0</td>\n      <td>80.2</td>\n      <td>33.2</td>\n      <td>54</td>\n      <td>0.0</td>\n      <td>3</td>\n      <td>100</td>\n      <td>33</td>\n      <td>71</td>\n      <td>100</td>\n      <td>7.3</td>\n      <td>2.33</td>\n    </tr>\n    <tr>\n      <th>2023-07-28 14:00:00+00:00</th>\n      <td>568.0</td>\n      <td>124.0</td>\n      <td>444.0</td>\n      <td>128.2</td>\n      <td>33.7</td>\n      <td>51</td>\n      <td>0.0</td>\n      <td>3</td>\n      <td>100</td>\n      <td>30</td>\n      <td>60</td>\n      <td>100</td>\n      <td>10.6</td>\n      <td>2.55</td>\n    </tr>\n    <tr>\n      <th>2023-07-28 15:00:00+00:00</th>\n      <td>573.0</td>\n      <td>212.0</td>\n      <td>361.0</td>\n      <td>241.2</td>\n      <td>33.9</td>\n      <td>50</td>\n      <td>0.0</td>\n      <td>2</td>\n      <td>78</td>\n      <td>40</td>\n      <td>54</td>\n      <td>28</td>\n      <td>13.4</td>\n      <td>2.64</td>\n    </tr>\n    <tr>\n      <th>2023-07-28 16:00:00+00:00</th>\n      <td>511.0</td>\n      <td>274.0</td>\n      <td>237.0</td>\n      <td>371.5</td>\n      <td>33.7</td>\n      <td>51</td>\n      <td>0.0</td>\n      <td>3</td>\n      <td>95</td>\n      <td>35</td>\n      <td>64</td>\n      <td>79</td>\n      <td>14.1</td>\n      <td>2.55</td>\n    </tr>\n    <tr>\n      <th>2023-07-28 17:00:00+00:00</th>\n      <td>343.0</td>\n      <td>159.0</td>\n      <td>184.0</td>\n      <td>287.5</td>\n      <td>32.9</td>\n      <td>54</td>\n      <td>0.0</td>\n      <td>3</td>\n      <td>100</td>\n      <td>2</td>\n      <td>54</td>\n      <td>100</td>\n      <td>11.9</td>\n      <td>2.30</td>\n    </tr>\n    <tr>\n      <th>2023-07-28 18:00:00+00:00</th>\n      <td>161.0</td>\n      <td>53.0</td>\n      <td>108.0</td>\n      <td>156.8</td>\n      <td>31.9</td>\n      <td>58</td>\n      <td>0.0</td>\n      <td>3</td>\n      <td>100</td>\n      <td>23</td>\n      <td>63</td>\n      <td>100</td>\n      <td>9.4</td>\n      <td>1.98</td>\n    </tr>\n    <tr>\n      <th>2023-07-28 19:00:00+00:00</th>\n      <td>30.0</td>\n      <td>0.0</td>\n      <td>30.0</td>\n      <td>0.0</td>\n      <td>30.5</td>\n      <td>65</td>\n      <td>0.0</td>\n      <td>3</td>\n      <td>100</td>\n      <td>12</td>\n      <td>47</td>\n      <td>100</td>\n      <td>5.0</td>\n      <td>1.52</td>\n    </tr>\n    <tr>\n      <th>2023-07-28 20:00:00+00:00</th>\n      <td>0.0</td>\n      <td>0.0</td>\n      <td>0.0</td>\n      <td>0.0</td>\n      <td>29.8</td>\n      <td>68</td>\n      <td>0.0</td>\n      <td>3</td>\n      <td>100</td>\n      <td>0</td>\n      <td>51</td>\n      <td>100</td>\n      <td>3.1</td>\n      <td>1.34</td>\n    </tr>\n    <tr>\n      <th>2023-07-28 21:00:00+00:00</th>\n      <td>0.0</td>\n      <td>0.0</td>\n      <td>0.0</td>\n      <td>0.0</td>\n      <td>29.0</td>\n      <td>71</td>\n      <td>0.0</td>\n      <td>3</td>\n      <td>100</td>\n      <td>33</td>\n      <td>62</td>\n      <td>100</td>\n      <td>3.7</td>\n      <td>1.16</td>\n    </tr>\n    <tr>\n      <th>2023-07-28 22:00:00+00:00</th>\n      <td>0.0</td>\n      <td>0.0</td>\n      <td>0.0</td>\n      <td>0.0</td>\n      <td>28.6</td>\n      <td>73</td>\n      <td>0.0</td>\n      <td>3</td>\n      <td>100</td>\n      <td>25</td>\n      <td>61</td>\n      <td>100</td>\n      <td>2.9</td>\n      <td>1.05</td>\n    </tr>\n    <tr>\n      <th>2023-07-28 23:00:00+00:00</th>\n      <td>0.0</td>\n      <td>0.0</td>\n      <td>0.0</td>\n      <td>0.0</td>\n      <td>28.0</td>\n      <td>76</td>\n      <td>0.0</td>\n      <td>3</td>\n      <td>100</td>\n      <td>0</td>\n      <td>66</td>\n      <td>100</td>\n      <td>3.7</td>\n      <td>0.90</td>\n    </tr>\n  </tbody>\n</table>\n</div>"
     },
     "execution_count": 7,
     "metadata": {},
     "output_type": "execute_result"
    }
   ],
   "source": [
    "weather_data"
   ],
   "metadata": {
    "collapsed": false,
    "ExecuteTime": {
     "end_time": "2023-07-28T14:47:58.980319175Z",
     "start_time": "2023-07-28T14:47:58.927817910Z"
    }
   },
   "id": "f98686987460ad90"
  },
  {
   "cell_type": "code",
   "execution_count": 6,
   "outputs": [],
   "source": [
    "api_wrapper = weather_analysis_utilities.OpenMeteoAPIWrapper(LATITUDE_PSH, LONGITUDE_PSH, weather_parameters)"
   ],
   "metadata": {
    "collapsed": false,
    "ExecuteTime": {
     "end_time": "2023-07-28T14:05:49.760749465Z",
     "start_time": "2023-07-28T14:05:49.298359894Z"
    }
   },
   "id": "2b559519a197f5ee"
  },
  {
   "cell_type": "code",
   "execution_count": 7,
   "outputs": [],
   "source": [
    "weather_forecast_df = api_wrapper.provide_forecasted_data(1)"
   ],
   "metadata": {
    "collapsed": false,
    "ExecuteTime": {
     "end_time": "2023-07-28T14:07:59.480765139Z",
     "start_time": "2023-07-28T14:07:58.598576509Z"
    }
   },
   "id": "bcd3e8b00ce746b3"
  },
  {
   "cell_type": "code",
   "execution_count": 8,
   "outputs": [
    {
     "data": {
      "text/plain": "                           shortwave_radiation  direct_radiation  \\\ntime                                                               \n2023-07-28 00:00:00+00:00                  0.0               0.0   \n2023-07-28 01:00:00+00:00                  0.0               0.0   \n2023-07-28 02:00:00+00:00                  0.0               0.0   \n2023-07-28 03:00:00+00:00                  0.0               0.0   \n2023-07-28 04:00:00+00:00                  0.0               0.0   \n2023-07-28 05:00:00+00:00                  0.0               0.0   \n2023-07-28 06:00:00+00:00                  0.0               0.0   \n2023-07-28 07:00:00+00:00                 32.0               0.0   \n2023-07-28 08:00:00+00:00                149.0              20.0   \n2023-07-28 09:00:00+00:00                241.0              31.0   \n2023-07-28 10:00:00+00:00                408.0             110.0   \n2023-07-28 11:00:00+00:00                542.0             143.0   \n2023-07-28 12:00:00+00:00                640.0             270.0   \n2023-07-28 13:00:00+00:00                489.0              80.0   \n2023-07-28 14:00:00+00:00                568.0             124.0   \n2023-07-28 15:00:00+00:00                573.0             212.0   \n2023-07-28 16:00:00+00:00                511.0             274.0   \n2023-07-28 17:00:00+00:00                343.0             159.0   \n2023-07-28 18:00:00+00:00                161.0              53.0   \n2023-07-28 19:00:00+00:00                 30.0               0.0   \n2023-07-28 20:00:00+00:00                  0.0               0.0   \n2023-07-28 21:00:00+00:00                  0.0               0.0   \n2023-07-28 22:00:00+00:00                  0.0               0.0   \n2023-07-28 23:00:00+00:00                  0.0               0.0   \n\n                           diffuse_radiation  direct_normal_irradiance  \\\ntime                                                                     \n2023-07-28 00:00:00+00:00                0.0                       0.0   \n2023-07-28 01:00:00+00:00                0.0                       0.0   \n2023-07-28 02:00:00+00:00                0.0                       0.0   \n2023-07-28 03:00:00+00:00                0.0                       0.0   \n2023-07-28 04:00:00+00:00                0.0                       0.0   \n2023-07-28 05:00:00+00:00                0.0                       0.0   \n2023-07-28 06:00:00+00:00                0.0                       0.0   \n2023-07-28 07:00:00+00:00               32.0                       0.0   \n2023-07-28 08:00:00+00:00              129.0                      59.8   \n2023-07-28 09:00:00+00:00              210.0                      56.4   \n2023-07-28 10:00:00+00:00              298.0                     149.7   \n2023-07-28 11:00:00+00:00              399.0                     163.1   \n2023-07-28 12:00:00+00:00              370.0                     279.3   \n2023-07-28 13:00:00+00:00              409.0                      80.2   \n2023-07-28 14:00:00+00:00              444.0                     128.2   \n2023-07-28 15:00:00+00:00              361.0                     241.2   \n2023-07-28 16:00:00+00:00              237.0                     371.5   \n2023-07-28 17:00:00+00:00              184.0                     287.5   \n2023-07-28 18:00:00+00:00              108.0                     156.8   \n2023-07-28 19:00:00+00:00               30.0                       0.0   \n2023-07-28 20:00:00+00:00                0.0                       0.0   \n2023-07-28 21:00:00+00:00                0.0                       0.0   \n2023-07-28 22:00:00+00:00                0.0                       0.0   \n2023-07-28 23:00:00+00:00                0.0                       0.0   \n\n                           temperature_2m  relativehumidity_2m  rain  \\\ntime                                                                   \n2023-07-28 00:00:00+00:00            27.6                   79   0.0   \n2023-07-28 01:00:00+00:00            27.1                   83   0.0   \n2023-07-28 02:00:00+00:00            26.6                   85   0.0   \n2023-07-28 03:00:00+00:00            26.3                   86   0.0   \n2023-07-28 04:00:00+00:00            26.0                   88   0.0   \n2023-07-28 05:00:00+00:00            25.7                   89   0.0   \n2023-07-28 06:00:00+00:00            25.6                   90   0.0   \n2023-07-28 07:00:00+00:00            26.0                   93   0.0   \n2023-07-28 08:00:00+00:00            27.5                   84   0.0   \n2023-07-28 09:00:00+00:00            28.3                   82   0.0   \n2023-07-28 10:00:00+00:00            29.7                   76   0.0   \n2023-07-28 11:00:00+00:00            31.2                   62   0.0   \n2023-07-28 12:00:00+00:00            32.2                   56   0.0   \n2023-07-28 13:00:00+00:00            33.2                   54   0.0   \n2023-07-28 14:00:00+00:00            33.7                   51   0.0   \n2023-07-28 15:00:00+00:00            33.9                   50   0.0   \n2023-07-28 16:00:00+00:00            33.7                   51   0.0   \n2023-07-28 17:00:00+00:00            32.9                   54   0.0   \n2023-07-28 18:00:00+00:00            31.9                   58   0.0   \n2023-07-28 19:00:00+00:00            30.5                   65   0.0   \n2023-07-28 20:00:00+00:00            29.8                   68   0.0   \n2023-07-28 21:00:00+00:00            29.0                   71   0.0   \n2023-07-28 22:00:00+00:00            28.6                   73   0.0   \n2023-07-28 23:00:00+00:00            28.0                   76   0.0   \n\n                           weathercode  cloudcover  cloudcover_low  \\\ntime                                                                 \n2023-07-28 00:00:00+00:00            3          94              40   \n2023-07-28 01:00:00+00:00            3         100              36   \n2023-07-28 02:00:00+00:00            3         100              39   \n2023-07-28 03:00:00+00:00            3         100              41   \n2023-07-28 04:00:00+00:00            3         100              33   \n2023-07-28 05:00:00+00:00            3         100              38   \n2023-07-28 06:00:00+00:00            3         100              46   \n2023-07-28 07:00:00+00:00            3         100               7   \n2023-07-28 08:00:00+00:00            3         100               5   \n2023-07-28 09:00:00+00:00            3         100               8   \n2023-07-28 10:00:00+00:00            3         100               0   \n2023-07-28 11:00:00+00:00            3         100               7   \n2023-07-28 12:00:00+00:00            3         100              28   \n2023-07-28 13:00:00+00:00            3         100              33   \n2023-07-28 14:00:00+00:00            3         100              30   \n2023-07-28 15:00:00+00:00            2          78              40   \n2023-07-28 16:00:00+00:00            3          95              35   \n2023-07-28 17:00:00+00:00            3         100               2   \n2023-07-28 18:00:00+00:00            3         100              23   \n2023-07-28 19:00:00+00:00            3         100              12   \n2023-07-28 20:00:00+00:00            3         100               0   \n2023-07-28 21:00:00+00:00            3         100              33   \n2023-07-28 22:00:00+00:00            3         100              25   \n2023-07-28 23:00:00+00:00            3         100               0   \n\n                           cloudcover_mid  cloudcover_high  windspeed_10m  \\\ntime                                                                        \n2023-07-28 00:00:00+00:00              55               78            4.2   \n2023-07-28 01:00:00+00:00              56              100            4.8   \n2023-07-28 02:00:00+00:00              41               99            4.7   \n2023-07-28 03:00:00+00:00              38              100            3.3   \n2023-07-28 04:00:00+00:00              45              100            3.8   \n2023-07-28 05:00:00+00:00              55              100            3.5   \n2023-07-28 06:00:00+00:00              65              100            4.0   \n2023-07-28 07:00:00+00:00              64              100            5.1   \n2023-07-28 08:00:00+00:00              91              100            4.5   \n2023-07-28 09:00:00+00:00              68              100            3.4   \n2023-07-28 10:00:00+00:00              69              100            2.8   \n2023-07-28 11:00:00+00:00              60              100            9.5   \n2023-07-28 12:00:00+00:00              68              100           11.1   \n2023-07-28 13:00:00+00:00              71              100            7.3   \n2023-07-28 14:00:00+00:00              60              100           10.6   \n2023-07-28 15:00:00+00:00              54               28           13.4   \n2023-07-28 16:00:00+00:00              64               79           14.1   \n2023-07-28 17:00:00+00:00              54              100           11.9   \n2023-07-28 18:00:00+00:00              63              100            9.4   \n2023-07-28 19:00:00+00:00              47              100            5.0   \n2023-07-28 20:00:00+00:00              51              100            3.1   \n2023-07-28 21:00:00+00:00              62              100            3.7   \n2023-07-28 22:00:00+00:00              61              100            2.9   \n2023-07-28 23:00:00+00:00              66              100            3.7   \n\n                           vapor_pressure_deficit  \ntime                                               \n2023-07-28 00:00:00+00:00                    0.77  \n2023-07-28 01:00:00+00:00                    0.61  \n2023-07-28 02:00:00+00:00                    0.52  \n2023-07-28 03:00:00+00:00                    0.48  \n2023-07-28 04:00:00+00:00                    0.40  \n2023-07-28 05:00:00+00:00                    0.36  \n2023-07-28 06:00:00+00:00                    0.33  \n2023-07-28 07:00:00+00:00                    0.24  \n2023-07-28 08:00:00+00:00                    0.59  \n2023-07-28 09:00:00+00:00                    0.69  \n2023-07-28 10:00:00+00:00                    1.00  \n2023-07-28 11:00:00+00:00                    1.73  \n2023-07-28 12:00:00+00:00                    2.11  \n2023-07-28 13:00:00+00:00                    2.33  \n2023-07-28 14:00:00+00:00                    2.55  \n2023-07-28 15:00:00+00:00                    2.64  \n2023-07-28 16:00:00+00:00                    2.55  \n2023-07-28 17:00:00+00:00                    2.30  \n2023-07-28 18:00:00+00:00                    1.98  \n2023-07-28 19:00:00+00:00                    1.52  \n2023-07-28 20:00:00+00:00                    1.34  \n2023-07-28 21:00:00+00:00                    1.16  \n2023-07-28 22:00:00+00:00                    1.05  \n2023-07-28 23:00:00+00:00                    0.90  ",
      "text/html": "<div>\n<style scoped>\n    .dataframe tbody tr th:only-of-type {\n        vertical-align: middle;\n    }\n\n    .dataframe tbody tr th {\n        vertical-align: top;\n    }\n\n    .dataframe thead th {\n        text-align: right;\n    }\n</style>\n<table border=\"1\" class=\"dataframe\">\n  <thead>\n    <tr style=\"text-align: right;\">\n      <th></th>\n      <th>shortwave_radiation</th>\n      <th>direct_radiation</th>\n      <th>diffuse_radiation</th>\n      <th>direct_normal_irradiance</th>\n      <th>temperature_2m</th>\n      <th>relativehumidity_2m</th>\n      <th>rain</th>\n      <th>weathercode</th>\n      <th>cloudcover</th>\n      <th>cloudcover_low</th>\n      <th>cloudcover_mid</th>\n      <th>cloudcover_high</th>\n      <th>windspeed_10m</th>\n      <th>vapor_pressure_deficit</th>\n    </tr>\n    <tr>\n      <th>time</th>\n      <th></th>\n      <th></th>\n      <th></th>\n      <th></th>\n      <th></th>\n      <th></th>\n      <th></th>\n      <th></th>\n      <th></th>\n      <th></th>\n      <th></th>\n      <th></th>\n      <th></th>\n      <th></th>\n    </tr>\n  </thead>\n  <tbody>\n    <tr>\n      <th>2023-07-28 00:00:00+00:00</th>\n      <td>0.0</td>\n      <td>0.0</td>\n      <td>0.0</td>\n      <td>0.0</td>\n      <td>27.6</td>\n      <td>79</td>\n      <td>0.0</td>\n      <td>3</td>\n      <td>94</td>\n      <td>40</td>\n      <td>55</td>\n      <td>78</td>\n      <td>4.2</td>\n      <td>0.77</td>\n    </tr>\n    <tr>\n      <th>2023-07-28 01:00:00+00:00</th>\n      <td>0.0</td>\n      <td>0.0</td>\n      <td>0.0</td>\n      <td>0.0</td>\n      <td>27.1</td>\n      <td>83</td>\n      <td>0.0</td>\n      <td>3</td>\n      <td>100</td>\n      <td>36</td>\n      <td>56</td>\n      <td>100</td>\n      <td>4.8</td>\n      <td>0.61</td>\n    </tr>\n    <tr>\n      <th>2023-07-28 02:00:00+00:00</th>\n      <td>0.0</td>\n      <td>0.0</td>\n      <td>0.0</td>\n      <td>0.0</td>\n      <td>26.6</td>\n      <td>85</td>\n      <td>0.0</td>\n      <td>3</td>\n      <td>100</td>\n      <td>39</td>\n      <td>41</td>\n      <td>99</td>\n      <td>4.7</td>\n      <td>0.52</td>\n    </tr>\n    <tr>\n      <th>2023-07-28 03:00:00+00:00</th>\n      <td>0.0</td>\n      <td>0.0</td>\n      <td>0.0</td>\n      <td>0.0</td>\n      <td>26.3</td>\n      <td>86</td>\n      <td>0.0</td>\n      <td>3</td>\n      <td>100</td>\n      <td>41</td>\n      <td>38</td>\n      <td>100</td>\n      <td>3.3</td>\n      <td>0.48</td>\n    </tr>\n    <tr>\n      <th>2023-07-28 04:00:00+00:00</th>\n      <td>0.0</td>\n      <td>0.0</td>\n      <td>0.0</td>\n      <td>0.0</td>\n      <td>26.0</td>\n      <td>88</td>\n      <td>0.0</td>\n      <td>3</td>\n      <td>100</td>\n      <td>33</td>\n      <td>45</td>\n      <td>100</td>\n      <td>3.8</td>\n      <td>0.40</td>\n    </tr>\n    <tr>\n      <th>2023-07-28 05:00:00+00:00</th>\n      <td>0.0</td>\n      <td>0.0</td>\n      <td>0.0</td>\n      <td>0.0</td>\n      <td>25.7</td>\n      <td>89</td>\n      <td>0.0</td>\n      <td>3</td>\n      <td>100</td>\n      <td>38</td>\n      <td>55</td>\n      <td>100</td>\n      <td>3.5</td>\n      <td>0.36</td>\n    </tr>\n    <tr>\n      <th>2023-07-28 06:00:00+00:00</th>\n      <td>0.0</td>\n      <td>0.0</td>\n      <td>0.0</td>\n      <td>0.0</td>\n      <td>25.6</td>\n      <td>90</td>\n      <td>0.0</td>\n      <td>3</td>\n      <td>100</td>\n      <td>46</td>\n      <td>65</td>\n      <td>100</td>\n      <td>4.0</td>\n      <td>0.33</td>\n    </tr>\n    <tr>\n      <th>2023-07-28 07:00:00+00:00</th>\n      <td>32.0</td>\n      <td>0.0</td>\n      <td>32.0</td>\n      <td>0.0</td>\n      <td>26.0</td>\n      <td>93</td>\n      <td>0.0</td>\n      <td>3</td>\n      <td>100</td>\n      <td>7</td>\n      <td>64</td>\n      <td>100</td>\n      <td>5.1</td>\n      <td>0.24</td>\n    </tr>\n    <tr>\n      <th>2023-07-28 08:00:00+00:00</th>\n      <td>149.0</td>\n      <td>20.0</td>\n      <td>129.0</td>\n      <td>59.8</td>\n      <td>27.5</td>\n      <td>84</td>\n      <td>0.0</td>\n      <td>3</td>\n      <td>100</td>\n      <td>5</td>\n      <td>91</td>\n      <td>100</td>\n      <td>4.5</td>\n      <td>0.59</td>\n    </tr>\n    <tr>\n      <th>2023-07-28 09:00:00+00:00</th>\n      <td>241.0</td>\n      <td>31.0</td>\n      <td>210.0</td>\n      <td>56.4</td>\n      <td>28.3</td>\n      <td>82</td>\n      <td>0.0</td>\n      <td>3</td>\n      <td>100</td>\n      <td>8</td>\n      <td>68</td>\n      <td>100</td>\n      <td>3.4</td>\n      <td>0.69</td>\n    </tr>\n    <tr>\n      <th>2023-07-28 10:00:00+00:00</th>\n      <td>408.0</td>\n      <td>110.0</td>\n      <td>298.0</td>\n      <td>149.7</td>\n      <td>29.7</td>\n      <td>76</td>\n      <td>0.0</td>\n      <td>3</td>\n      <td>100</td>\n      <td>0</td>\n      <td>69</td>\n      <td>100</td>\n      <td>2.8</td>\n      <td>1.00</td>\n    </tr>\n    <tr>\n      <th>2023-07-28 11:00:00+00:00</th>\n      <td>542.0</td>\n      <td>143.0</td>\n      <td>399.0</td>\n      <td>163.1</td>\n      <td>31.2</td>\n      <td>62</td>\n      <td>0.0</td>\n      <td>3</td>\n      <td>100</td>\n      <td>7</td>\n      <td>60</td>\n      <td>100</td>\n      <td>9.5</td>\n      <td>1.73</td>\n    </tr>\n    <tr>\n      <th>2023-07-28 12:00:00+00:00</th>\n      <td>640.0</td>\n      <td>270.0</td>\n      <td>370.0</td>\n      <td>279.3</td>\n      <td>32.2</td>\n      <td>56</td>\n      <td>0.0</td>\n      <td>3</td>\n      <td>100</td>\n      <td>28</td>\n      <td>68</td>\n      <td>100</td>\n      <td>11.1</td>\n      <td>2.11</td>\n    </tr>\n    <tr>\n      <th>2023-07-28 13:00:00+00:00</th>\n      <td>489.0</td>\n      <td>80.0</td>\n      <td>409.0</td>\n      <td>80.2</td>\n      <td>33.2</td>\n      <td>54</td>\n      <td>0.0</td>\n      <td>3</td>\n      <td>100</td>\n      <td>33</td>\n      <td>71</td>\n      <td>100</td>\n      <td>7.3</td>\n      <td>2.33</td>\n    </tr>\n    <tr>\n      <th>2023-07-28 14:00:00+00:00</th>\n      <td>568.0</td>\n      <td>124.0</td>\n      <td>444.0</td>\n      <td>128.2</td>\n      <td>33.7</td>\n      <td>51</td>\n      <td>0.0</td>\n      <td>3</td>\n      <td>100</td>\n      <td>30</td>\n      <td>60</td>\n      <td>100</td>\n      <td>10.6</td>\n      <td>2.55</td>\n    </tr>\n    <tr>\n      <th>2023-07-28 15:00:00+00:00</th>\n      <td>573.0</td>\n      <td>212.0</td>\n      <td>361.0</td>\n      <td>241.2</td>\n      <td>33.9</td>\n      <td>50</td>\n      <td>0.0</td>\n      <td>2</td>\n      <td>78</td>\n      <td>40</td>\n      <td>54</td>\n      <td>28</td>\n      <td>13.4</td>\n      <td>2.64</td>\n    </tr>\n    <tr>\n      <th>2023-07-28 16:00:00+00:00</th>\n      <td>511.0</td>\n      <td>274.0</td>\n      <td>237.0</td>\n      <td>371.5</td>\n      <td>33.7</td>\n      <td>51</td>\n      <td>0.0</td>\n      <td>3</td>\n      <td>95</td>\n      <td>35</td>\n      <td>64</td>\n      <td>79</td>\n      <td>14.1</td>\n      <td>2.55</td>\n    </tr>\n    <tr>\n      <th>2023-07-28 17:00:00+00:00</th>\n      <td>343.0</td>\n      <td>159.0</td>\n      <td>184.0</td>\n      <td>287.5</td>\n      <td>32.9</td>\n      <td>54</td>\n      <td>0.0</td>\n      <td>3</td>\n      <td>100</td>\n      <td>2</td>\n      <td>54</td>\n      <td>100</td>\n      <td>11.9</td>\n      <td>2.30</td>\n    </tr>\n    <tr>\n      <th>2023-07-28 18:00:00+00:00</th>\n      <td>161.0</td>\n      <td>53.0</td>\n      <td>108.0</td>\n      <td>156.8</td>\n      <td>31.9</td>\n      <td>58</td>\n      <td>0.0</td>\n      <td>3</td>\n      <td>100</td>\n      <td>23</td>\n      <td>63</td>\n      <td>100</td>\n      <td>9.4</td>\n      <td>1.98</td>\n    </tr>\n    <tr>\n      <th>2023-07-28 19:00:00+00:00</th>\n      <td>30.0</td>\n      <td>0.0</td>\n      <td>30.0</td>\n      <td>0.0</td>\n      <td>30.5</td>\n      <td>65</td>\n      <td>0.0</td>\n      <td>3</td>\n      <td>100</td>\n      <td>12</td>\n      <td>47</td>\n      <td>100</td>\n      <td>5.0</td>\n      <td>1.52</td>\n    </tr>\n    <tr>\n      <th>2023-07-28 20:00:00+00:00</th>\n      <td>0.0</td>\n      <td>0.0</td>\n      <td>0.0</td>\n      <td>0.0</td>\n      <td>29.8</td>\n      <td>68</td>\n      <td>0.0</td>\n      <td>3</td>\n      <td>100</td>\n      <td>0</td>\n      <td>51</td>\n      <td>100</td>\n      <td>3.1</td>\n      <td>1.34</td>\n    </tr>\n    <tr>\n      <th>2023-07-28 21:00:00+00:00</th>\n      <td>0.0</td>\n      <td>0.0</td>\n      <td>0.0</td>\n      <td>0.0</td>\n      <td>29.0</td>\n      <td>71</td>\n      <td>0.0</td>\n      <td>3</td>\n      <td>100</td>\n      <td>33</td>\n      <td>62</td>\n      <td>100</td>\n      <td>3.7</td>\n      <td>1.16</td>\n    </tr>\n    <tr>\n      <th>2023-07-28 22:00:00+00:00</th>\n      <td>0.0</td>\n      <td>0.0</td>\n      <td>0.0</td>\n      <td>0.0</td>\n      <td>28.6</td>\n      <td>73</td>\n      <td>0.0</td>\n      <td>3</td>\n      <td>100</td>\n      <td>25</td>\n      <td>61</td>\n      <td>100</td>\n      <td>2.9</td>\n      <td>1.05</td>\n    </tr>\n    <tr>\n      <th>2023-07-28 23:00:00+00:00</th>\n      <td>0.0</td>\n      <td>0.0</td>\n      <td>0.0</td>\n      <td>0.0</td>\n      <td>28.0</td>\n      <td>76</td>\n      <td>0.0</td>\n      <td>3</td>\n      <td>100</td>\n      <td>0</td>\n      <td>66</td>\n      <td>100</td>\n      <td>3.7</td>\n      <td>0.90</td>\n    </tr>\n  </tbody>\n</table>\n</div>"
     },
     "execution_count": 8,
     "metadata": {},
     "output_type": "execute_result"
    }
   ],
   "source": [
    "weather_forecast_df"
   ],
   "metadata": {
    "collapsed": false,
    "ExecuteTime": {
     "end_time": "2023-07-28T14:08:06.317993864Z",
     "start_time": "2023-07-28T14:08:06.095449087Z"
    }
   },
   "id": "8e34d3cce918b3be"
  },
  {
   "cell_type": "code",
   "execution_count": 9,
   "outputs": [],
   "source": [
    "results = db_manager.upload_weather_to_db(weather_forecast_df)"
   ],
   "metadata": {
    "collapsed": false,
    "ExecuteTime": {
     "end_time": "2023-07-28T14:08:23.417357769Z",
     "start_time": "2023-07-28T14:08:23.349649183Z"
    }
   },
   "id": "620edbc8fc2ad6fd"
  },
  {
   "cell_type": "code",
   "execution_count": 11,
   "outputs": [],
   "source": [
    "results"
   ],
   "metadata": {
    "collapsed": false,
    "ExecuteTime": {
     "end_time": "2023-07-28T14:08:27.819274427Z",
     "start_time": "2023-07-28T14:08:27.796435167Z"
    }
   },
   "id": "f8af91e77726a180"
  },
  {
   "cell_type": "code",
   "execution_count": 12,
   "outputs": [],
   "source": [
    "weather_forecast_df = db_manager.load_weather_from_db()"
   ],
   "metadata": {
    "collapsed": false,
    "ExecuteTime": {
     "end_time": "2023-07-28T14:08:37.474277963Z",
     "start_time": "2023-07-28T14:08:37.454614196Z"
    }
   },
   "id": "bfc4d5801e24b1aa"
  },
  {
   "cell_type": "code",
   "execution_count": 13,
   "outputs": [
    {
     "data": {
      "text/plain": "    shortwave_radiation  direct_radiation  diffuse_radiation  \\\n0                   0.0               0.0                0.0   \n1                   0.0               0.0                0.0   \n2                   0.0               0.0                0.0   \n3                   0.0               0.0                0.0   \n4                   0.0               0.0                0.0   \n5                   0.0               0.0                0.0   \n6                   0.0               0.0                0.0   \n7                  32.0               0.0               32.0   \n8                 149.0              20.0              129.0   \n9                 241.0              31.0              210.0   \n10                408.0             110.0              298.0   \n11                542.0             143.0              399.0   \n12                640.0             270.0              370.0   \n13                489.0              80.0              409.0   \n14                568.0             124.0              444.0   \n15                573.0             212.0              361.0   \n16                511.0             274.0              237.0   \n17                343.0             159.0              184.0   \n18                161.0              53.0              108.0   \n19                 30.0               0.0               30.0   \n20                  0.0               0.0                0.0   \n21                  0.0               0.0                0.0   \n22                  0.0               0.0                0.0   \n23                  0.0               0.0                0.0   \n\n    direct_normal_irradiance  temperature_2m  relativehumidity_2m  rain  \\\n0                        0.0            27.6                   79   0.0   \n1                        0.0            27.1                   83   0.0   \n2                        0.0            26.6                   85   0.0   \n3                        0.0            26.3                   86   0.0   \n4                        0.0            26.0                   88   0.0   \n5                        0.0            25.7                   89   0.0   \n6                        0.0            25.6                   90   0.0   \n7                        0.0            26.0                   93   0.0   \n8                       59.8            27.5                   84   0.0   \n9                       56.4            28.3                   82   0.0   \n10                     149.7            29.7                   76   0.0   \n11                     163.1            31.2                   62   0.0   \n12                     279.3            32.2                   56   0.0   \n13                      80.2            33.2                   54   0.0   \n14                     128.2            33.7                   51   0.0   \n15                     241.2            33.9                   50   0.0   \n16                     371.5            33.7                   51   0.0   \n17                     287.5            32.9                   54   0.0   \n18                     156.8            31.9                   58   0.0   \n19                       0.0            30.5                   65   0.0   \n20                       0.0            29.8                   68   0.0   \n21                       0.0            29.0                   71   0.0   \n22                       0.0            28.6                   73   0.0   \n23                       0.0            28.0                   76   0.0   \n\n    weathercode  cloudcover  cloudcover_low  cloudcover_mid  cloudcover_high  \\\n0             3          94              40              55               78   \n1             3         100              36              56              100   \n2             3         100              39              41               99   \n3             3         100              41              38              100   \n4             3         100              33              45              100   \n5             3         100              38              55              100   \n6             3         100              46              65              100   \n7             3         100               7              64              100   \n8             3         100               5              91              100   \n9             3         100               8              68              100   \n10            3         100               0              69              100   \n11            3         100               7              60              100   \n12            3         100              28              68              100   \n13            3         100              33              71              100   \n14            3         100              30              60              100   \n15            2          78              40              54               28   \n16            3          95              35              64               79   \n17            3         100               2              54              100   \n18            3         100              23              63              100   \n19            3         100              12              47              100   \n20            3         100               0              51              100   \n21            3         100              33              62              100   \n22            3         100              25              61              100   \n23            3         100               0              66              100   \n\n    windspeed_10m  vapor_pressure_deficit  \n0             4.2                    0.77  \n1             4.8                    0.61  \n2             4.7                    0.52  \n3             3.3                    0.48  \n4             3.8                    0.40  \n5             3.5                    0.36  \n6             4.0                    0.33  \n7             5.1                    0.24  \n8             4.5                    0.59  \n9             3.4                    0.69  \n10            2.8                    1.00  \n11            9.5                    1.73  \n12           11.1                    2.11  \n13            7.3                    2.33  \n14           10.6                    2.55  \n15           13.4                    2.64  \n16           14.1                    2.55  \n17           11.9                    2.30  \n18            9.4                    1.98  \n19            5.0                    1.52  \n20            3.1                    1.34  \n21            3.7                    1.16  \n22            2.9                    1.05  \n23            3.7                    0.90  ",
      "text/html": "<div>\n<style scoped>\n    .dataframe tbody tr th:only-of-type {\n        vertical-align: middle;\n    }\n\n    .dataframe tbody tr th {\n        vertical-align: top;\n    }\n\n    .dataframe thead th {\n        text-align: right;\n    }\n</style>\n<table border=\"1\" class=\"dataframe\">\n  <thead>\n    <tr style=\"text-align: right;\">\n      <th></th>\n      <th>shortwave_radiation</th>\n      <th>direct_radiation</th>\n      <th>diffuse_radiation</th>\n      <th>direct_normal_irradiance</th>\n      <th>temperature_2m</th>\n      <th>relativehumidity_2m</th>\n      <th>rain</th>\n      <th>weathercode</th>\n      <th>cloudcover</th>\n      <th>cloudcover_low</th>\n      <th>cloudcover_mid</th>\n      <th>cloudcover_high</th>\n      <th>windspeed_10m</th>\n      <th>vapor_pressure_deficit</th>\n    </tr>\n  </thead>\n  <tbody>\n    <tr>\n      <th>0</th>\n      <td>0.0</td>\n      <td>0.0</td>\n      <td>0.0</td>\n      <td>0.0</td>\n      <td>27.6</td>\n      <td>79</td>\n      <td>0.0</td>\n      <td>3</td>\n      <td>94</td>\n      <td>40</td>\n      <td>55</td>\n      <td>78</td>\n      <td>4.2</td>\n      <td>0.77</td>\n    </tr>\n    <tr>\n      <th>1</th>\n      <td>0.0</td>\n      <td>0.0</td>\n      <td>0.0</td>\n      <td>0.0</td>\n      <td>27.1</td>\n      <td>83</td>\n      <td>0.0</td>\n      <td>3</td>\n      <td>100</td>\n      <td>36</td>\n      <td>56</td>\n      <td>100</td>\n      <td>4.8</td>\n      <td>0.61</td>\n    </tr>\n    <tr>\n      <th>2</th>\n      <td>0.0</td>\n      <td>0.0</td>\n      <td>0.0</td>\n      <td>0.0</td>\n      <td>26.6</td>\n      <td>85</td>\n      <td>0.0</td>\n      <td>3</td>\n      <td>100</td>\n      <td>39</td>\n      <td>41</td>\n      <td>99</td>\n      <td>4.7</td>\n      <td>0.52</td>\n    </tr>\n    <tr>\n      <th>3</th>\n      <td>0.0</td>\n      <td>0.0</td>\n      <td>0.0</td>\n      <td>0.0</td>\n      <td>26.3</td>\n      <td>86</td>\n      <td>0.0</td>\n      <td>3</td>\n      <td>100</td>\n      <td>41</td>\n      <td>38</td>\n      <td>100</td>\n      <td>3.3</td>\n      <td>0.48</td>\n    </tr>\n    <tr>\n      <th>4</th>\n      <td>0.0</td>\n      <td>0.0</td>\n      <td>0.0</td>\n      <td>0.0</td>\n      <td>26.0</td>\n      <td>88</td>\n      <td>0.0</td>\n      <td>3</td>\n      <td>100</td>\n      <td>33</td>\n      <td>45</td>\n      <td>100</td>\n      <td>3.8</td>\n      <td>0.40</td>\n    </tr>\n    <tr>\n      <th>5</th>\n      <td>0.0</td>\n      <td>0.0</td>\n      <td>0.0</td>\n      <td>0.0</td>\n      <td>25.7</td>\n      <td>89</td>\n      <td>0.0</td>\n      <td>3</td>\n      <td>100</td>\n      <td>38</td>\n      <td>55</td>\n      <td>100</td>\n      <td>3.5</td>\n      <td>0.36</td>\n    </tr>\n    <tr>\n      <th>6</th>\n      <td>0.0</td>\n      <td>0.0</td>\n      <td>0.0</td>\n      <td>0.0</td>\n      <td>25.6</td>\n      <td>90</td>\n      <td>0.0</td>\n      <td>3</td>\n      <td>100</td>\n      <td>46</td>\n      <td>65</td>\n      <td>100</td>\n      <td>4.0</td>\n      <td>0.33</td>\n    </tr>\n    <tr>\n      <th>7</th>\n      <td>32.0</td>\n      <td>0.0</td>\n      <td>32.0</td>\n      <td>0.0</td>\n      <td>26.0</td>\n      <td>93</td>\n      <td>0.0</td>\n      <td>3</td>\n      <td>100</td>\n      <td>7</td>\n      <td>64</td>\n      <td>100</td>\n      <td>5.1</td>\n      <td>0.24</td>\n    </tr>\n    <tr>\n      <th>8</th>\n      <td>149.0</td>\n      <td>20.0</td>\n      <td>129.0</td>\n      <td>59.8</td>\n      <td>27.5</td>\n      <td>84</td>\n      <td>0.0</td>\n      <td>3</td>\n      <td>100</td>\n      <td>5</td>\n      <td>91</td>\n      <td>100</td>\n      <td>4.5</td>\n      <td>0.59</td>\n    </tr>\n    <tr>\n      <th>9</th>\n      <td>241.0</td>\n      <td>31.0</td>\n      <td>210.0</td>\n      <td>56.4</td>\n      <td>28.3</td>\n      <td>82</td>\n      <td>0.0</td>\n      <td>3</td>\n      <td>100</td>\n      <td>8</td>\n      <td>68</td>\n      <td>100</td>\n      <td>3.4</td>\n      <td>0.69</td>\n    </tr>\n    <tr>\n      <th>10</th>\n      <td>408.0</td>\n      <td>110.0</td>\n      <td>298.0</td>\n      <td>149.7</td>\n      <td>29.7</td>\n      <td>76</td>\n      <td>0.0</td>\n      <td>3</td>\n      <td>100</td>\n      <td>0</td>\n      <td>69</td>\n      <td>100</td>\n      <td>2.8</td>\n      <td>1.00</td>\n    </tr>\n    <tr>\n      <th>11</th>\n      <td>542.0</td>\n      <td>143.0</td>\n      <td>399.0</td>\n      <td>163.1</td>\n      <td>31.2</td>\n      <td>62</td>\n      <td>0.0</td>\n      <td>3</td>\n      <td>100</td>\n      <td>7</td>\n      <td>60</td>\n      <td>100</td>\n      <td>9.5</td>\n      <td>1.73</td>\n    </tr>\n    <tr>\n      <th>12</th>\n      <td>640.0</td>\n      <td>270.0</td>\n      <td>370.0</td>\n      <td>279.3</td>\n      <td>32.2</td>\n      <td>56</td>\n      <td>0.0</td>\n      <td>3</td>\n      <td>100</td>\n      <td>28</td>\n      <td>68</td>\n      <td>100</td>\n      <td>11.1</td>\n      <td>2.11</td>\n    </tr>\n    <tr>\n      <th>13</th>\n      <td>489.0</td>\n      <td>80.0</td>\n      <td>409.0</td>\n      <td>80.2</td>\n      <td>33.2</td>\n      <td>54</td>\n      <td>0.0</td>\n      <td>3</td>\n      <td>100</td>\n      <td>33</td>\n      <td>71</td>\n      <td>100</td>\n      <td>7.3</td>\n      <td>2.33</td>\n    </tr>\n    <tr>\n      <th>14</th>\n      <td>568.0</td>\n      <td>124.0</td>\n      <td>444.0</td>\n      <td>128.2</td>\n      <td>33.7</td>\n      <td>51</td>\n      <td>0.0</td>\n      <td>3</td>\n      <td>100</td>\n      <td>30</td>\n      <td>60</td>\n      <td>100</td>\n      <td>10.6</td>\n      <td>2.55</td>\n    </tr>\n    <tr>\n      <th>15</th>\n      <td>573.0</td>\n      <td>212.0</td>\n      <td>361.0</td>\n      <td>241.2</td>\n      <td>33.9</td>\n      <td>50</td>\n      <td>0.0</td>\n      <td>2</td>\n      <td>78</td>\n      <td>40</td>\n      <td>54</td>\n      <td>28</td>\n      <td>13.4</td>\n      <td>2.64</td>\n    </tr>\n    <tr>\n      <th>16</th>\n      <td>511.0</td>\n      <td>274.0</td>\n      <td>237.0</td>\n      <td>371.5</td>\n      <td>33.7</td>\n      <td>51</td>\n      <td>0.0</td>\n      <td>3</td>\n      <td>95</td>\n      <td>35</td>\n      <td>64</td>\n      <td>79</td>\n      <td>14.1</td>\n      <td>2.55</td>\n    </tr>\n    <tr>\n      <th>17</th>\n      <td>343.0</td>\n      <td>159.0</td>\n      <td>184.0</td>\n      <td>287.5</td>\n      <td>32.9</td>\n      <td>54</td>\n      <td>0.0</td>\n      <td>3</td>\n      <td>100</td>\n      <td>2</td>\n      <td>54</td>\n      <td>100</td>\n      <td>11.9</td>\n      <td>2.30</td>\n    </tr>\n    <tr>\n      <th>18</th>\n      <td>161.0</td>\n      <td>53.0</td>\n      <td>108.0</td>\n      <td>156.8</td>\n      <td>31.9</td>\n      <td>58</td>\n      <td>0.0</td>\n      <td>3</td>\n      <td>100</td>\n      <td>23</td>\n      <td>63</td>\n      <td>100</td>\n      <td>9.4</td>\n      <td>1.98</td>\n    </tr>\n    <tr>\n      <th>19</th>\n      <td>30.0</td>\n      <td>0.0</td>\n      <td>30.0</td>\n      <td>0.0</td>\n      <td>30.5</td>\n      <td>65</td>\n      <td>0.0</td>\n      <td>3</td>\n      <td>100</td>\n      <td>12</td>\n      <td>47</td>\n      <td>100</td>\n      <td>5.0</td>\n      <td>1.52</td>\n    </tr>\n    <tr>\n      <th>20</th>\n      <td>0.0</td>\n      <td>0.0</td>\n      <td>0.0</td>\n      <td>0.0</td>\n      <td>29.8</td>\n      <td>68</td>\n      <td>0.0</td>\n      <td>3</td>\n      <td>100</td>\n      <td>0</td>\n      <td>51</td>\n      <td>100</td>\n      <td>3.1</td>\n      <td>1.34</td>\n    </tr>\n    <tr>\n      <th>21</th>\n      <td>0.0</td>\n      <td>0.0</td>\n      <td>0.0</td>\n      <td>0.0</td>\n      <td>29.0</td>\n      <td>71</td>\n      <td>0.0</td>\n      <td>3</td>\n      <td>100</td>\n      <td>33</td>\n      <td>62</td>\n      <td>100</td>\n      <td>3.7</td>\n      <td>1.16</td>\n    </tr>\n    <tr>\n      <th>22</th>\n      <td>0.0</td>\n      <td>0.0</td>\n      <td>0.0</td>\n      <td>0.0</td>\n      <td>28.6</td>\n      <td>73</td>\n      <td>0.0</td>\n      <td>3</td>\n      <td>100</td>\n      <td>25</td>\n      <td>61</td>\n      <td>100</td>\n      <td>2.9</td>\n      <td>1.05</td>\n    </tr>\n    <tr>\n      <th>23</th>\n      <td>0.0</td>\n      <td>0.0</td>\n      <td>0.0</td>\n      <td>0.0</td>\n      <td>28.0</td>\n      <td>76</td>\n      <td>0.0</td>\n      <td>3</td>\n      <td>100</td>\n      <td>0</td>\n      <td>66</td>\n      <td>100</td>\n      <td>3.7</td>\n      <td>0.90</td>\n    </tr>\n  </tbody>\n</table>\n</div>"
     },
     "execution_count": 13,
     "metadata": {},
     "output_type": "execute_result"
    }
   ],
   "source": [
    "weather_forecast_df"
   ],
   "metadata": {
    "collapsed": false,
    "ExecuteTime": {
     "end_time": "2023-07-28T14:08:38.377996343Z",
     "start_time": "2023-07-28T14:08:38.316423159Z"
    }
   },
   "id": "3ae2ea05b0216683"
  },
  {
   "cell_type": "code",
   "execution_count": null,
   "outputs": [],
   "source": [],
   "metadata": {
    "collapsed": false
   },
   "id": "964c69fe69c23949"
  }
 ],
 "metadata": {
  "kernelspec": {
   "display_name": "Python 3",
   "language": "python",
   "name": "python3"
  },
  "language_info": {
   "codemirror_mode": {
    "name": "ipython",
    "version": 2
   },
   "file_extension": ".py",
   "mimetype": "text/x-python",
   "name": "python",
   "nbconvert_exporter": "python",
   "pygments_lexer": "ipython2",
   "version": "2.7.6"
  }
 },
 "nbformat": 4,
 "nbformat_minor": 5
}
